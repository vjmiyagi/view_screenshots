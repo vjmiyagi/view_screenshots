{
  "nbformat": 4,
  "nbformat_minor": 0,
  "metadata": {
    "colab": {
      "name": "YouTubeLinkModifier.ipynb",
      "provenance": [],
      "collapsed_sections": []
    },
    "kernelspec": {
      "name": "python3",
      "display_name": "Python 3"
    }
  },
  "cells": [
    {
      "cell_type": "code",
      "metadata": {
        "id": "TzndFkvsqWQ-",
        "cellView": "form"
      },
      "source": [
        "#@title ytlink Function Lives here\n",
        "def ytlink(l, h, m, s):\n",
        "    ''' This function will take a YouTube link\n",
        "        ask user to input in hours, minutes and \n",
        "        seconds and return link that starts \n",
        "        the video at the specified timemark'''\n",
        "    t = (h*60*60) + (m*60) + s\n",
        "    # create link components\n",
        "    # First check for & in link\n",
        "    if \"&\" in l:\n",
        "        l = l.split(\"&\")\n",
        "        l = l[0]\n",
        "    first = \"https://youtu.be/\"\n",
        "    second = l.split(\"=\")\n",
        "    second = second[1]\n",
        "    third = \"?t=\" + str(t)\n",
        "    l = first + second + third\n",
        "    return l    # Return the modified link"
      ],
      "execution_count": null,
      "outputs": []
    },
    {
      "cell_type": "code",
      "metadata": {
        "id": "rnz_pFQtUnLF",
        "cellView": "form",
        "outputId": "123cfd11-75de-47ef-8565-bcfd248c8c88",
        "colab": {
          "base_uri": "https://localhost:8080/"
        }
      },
      "source": [
        "#@title YouTube Link Modifier { run: \"auto\" }\n",
        "import pyperclip\n",
        "\n",
        "l = \"https://www.youtube.com/watch?v=QemqRhPEVDk\" #@param {type:\"string\"}\n",
        "h = 1 #@param {type:\"integer\"}\n",
        "m =  15#@param {type:\"integer\"}\n",
        "s =  22#@param {type:\"integer\"}\n",
        "\n",
        "t = ytlink(l,h,m,s)\n",
        "print(t)\n",
        "print()\n",
        "\n",
        "print(f'[Lecture Link]({t})')\n"
      ],
      "execution_count": null,
      "outputs": [
        {
          "output_type": "stream",
          "text": [
            "https://youtu.be/QemqRhPEVDk?t=4522\n",
            "\n",
            "[Lecture Link](https://youtu.be/QemqRhPEVDk?t=4522)\n"
          ],
          "name": "stdout"
        }
      ]
    },
    {
      "cell_type": "code",
      "metadata": {
        "id": "0AB0idFKuTz8"
      },
      "source": [
        ""
      ],
      "execution_count": null,
      "outputs": []
    }
  ]
}